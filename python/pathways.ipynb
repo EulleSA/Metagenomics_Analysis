{
 "cells": [
  {
   "cell_type": "code",
   "execution_count": 1,
   "metadata": {},
   "outputs": [],
   "source": [
    "import pandas as pd\n",
    "import numpy as np\n",
    "import re,glob,os,secrets\n",
    "import urllib.parse\n",
    "import urllib.request\n",
    "from multiprocessing.pool import ThreadPool\n",
    "import urllib\n",
    "import pandas as pd\n",
    "import operator\n",
    "import functools\n",
    "from operator import methodcaller"
   ]
  },
  {
   "cell_type": "code",
   "execution_count": 2,
   "metadata": {},
   "outputs": [],
   "source": [
    "df_besthits = pd.read_table(\"C:/Users/eulle/Documents/besthits/besthits_CoSQG.m8\")\n",
    "\n",
    "columns_csv = ['qseqid' ,'sseqid' ,'pident' ,'length','mismatch','gapopen','qstart' ,'qend' ,'sstart' ,'send' ,'evalue' ,'bitscore']\n",
    "row_values = pd.Series(df_besthits.columns)\n",
    "df_besthits = pd.DataFrame(np.vstack([df_besthits.columns,df_besthits]))\n",
    "df_besthits.columns = columns_csv\n"
   ]
  },
  {
   "cell_type": "code",
   "execution_count": 4,
   "metadata": {},
   "outputs": [],
   "source": [
    "df_pathways = pd.read_csv(\"C:/Users/eulle/OneDrive/Documentos/pathways_CoSQG/pathways_biosufdbxCoSQG\")\n",
    "df_pathways = df_pathways.drop_duplicates(\"Uniprot_ID\")\n",
    "\n",
    "\n",
    "# PRECISA CONCATENAR OS DADOS"
   ]
  },
  {
   "cell_type": "code",
   "execution_count": 27,
   "metadata": {},
   "outputs": [
    {
     "data": {
      "text/html": [
       "<div>\n",
       "<style scoped>\n",
       "    .dataframe tbody tr th:only-of-type {\n",
       "        vertical-align: middle;\n",
       "    }\n",
       "\n",
       "    .dataframe tbody tr th {\n",
       "        vertical-align: top;\n",
       "    }\n",
       "\n",
       "    .dataframe thead th {\n",
       "        text-align: right;\n",
       "    }\n",
       "</style>\n",
       "<table border=\"1\" class=\"dataframe\">\n",
       "  <thead>\n",
       "    <tr style=\"text-align: right;\">\n",
       "      <th></th>\n",
       "      <th>KO</th>\n",
       "      <th>Uniprot_ID</th>\n",
       "      <th>Pathway</th>\n",
       "    </tr>\n",
       "  </thead>\n",
       "  <tbody>\n",
       "  </tbody>\n",
       "</table>\n",
       "</div>"
      ],
      "text/plain": [
       "Empty DataFrame\n",
       "Columns: [KO, Uniprot_ID, Pathway]\n",
       "Index: []"
      ]
     },
     "execution_count": 27,
     "metadata": {},
     "output_type": "execute_result"
    }
   ],
   "source": []
  }
 ],
 "metadata": {
  "kernelspec": {
   "display_name": "Python 3",
   "language": "python",
   "name": "python3"
  },
  "language_info": {
   "codemirror_mode": {
    "name": "ipython",
    "version": 3
   },
   "file_extension": ".py",
   "mimetype": "text/x-python",
   "name": "python",
   "nbconvert_exporter": "python",
   "pygments_lexer": "ipython3",
   "version": "3.7.4"
  }
 },
 "nbformat": 4,
 "nbformat_minor": 2
}
