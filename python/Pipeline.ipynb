{
 "cells": [
  {
   "cell_type": "code",
   "execution_count": 1,
   "metadata": {},
   "outputs": [],
   "source": [
    "import pandas as pd\n",
    "import numpy as np\n",
    "import re,glob,os,secrets\n",
    "import urllib.parse\n",
    "import urllib.request\n",
    "from multiprocessing.pool import ThreadPool\n",
    "import urllib\n",
    "import pandas as pd\n",
    "import operator\n",
    "import functools\n",
    "from operator import methodcaller\n",
    "\n",
    "URL = 'https://www.uniprot.org/uploadlists/'\n",
    "\n",
    "def create_chunks(list_name, n):\n",
    "    for i in range(0, len(list_name), n):\n",
    "        yield list_name[i:i + n]\n",
    "        \n",
    "def mapping_ids(ids2map, source_fmt='P_GI',target_fmt='ACC', output_fmt='tab'):\n",
    "    if hasattr(ids2map, 'pop'):\n",
    "            ids2map = ' '.join(ids2map)\n",
    "    params = {\n",
    "    'from': source_fmt,\n",
    "    'to': target_fmt,\n",
    "    'format': output_fmt,\n",
    "    'query': ids2map\n",
    "    }\n",
    "\n",
    "    data = urllib.parse.urlencode(params)\n",
    "    data = data.encode('utf-8')\n",
    "    req = urllib.request.Request(URL, data)\n",
    "    with urllib.request.urlopen(req) as f:\n",
    "        response = f.read().decode('utf-8')\n",
    "    return response\n",
    "\n",
    "def concat_dfs(path,extension):\n",
    "    extension = extension\n",
    "    all_filenames = [i for i in glob.glob('*.{}'.format(extension))]\n",
    "    \n",
    "    combined_dfs = pd.concat([pd.read_table(f) for f in all_filenames ])\n",
    "    \n",
    "    return combined_dfs\n",
    "\n",
    "def taxonomy_metag(basta_output, besthits):\n",
    "    columns_basta_output = ['id_read','taxonomy']\n",
    "    basta_output = pd.DataFrame(np.vstack([basta_output.columns,basta_output]))\n",
    "    basta_output.columns = columns_basta_output\n",
    "    taxonomy = basta_output[\"taxonomy\"].str.split(\";\",expand=True)\n",
    "    basta_output[\"taxonomy\"] = taxonomy[5]\n",
    "    besthits = pd.merge(besthits,basta_output,left_on=\"qseqid\",right_on=\"id_read\",how=\"left\")\n",
    "    besthits = besthits.drop(\"id_read\",1)\n",
    "    besthits = besthits.loc[besthits[\"taxonomy\"]!=\"unknown\"]\n",
    "    besthits = besthits.loc[besthits[\"taxonomy\"].notna()]\n",
    "    besthits = besthits.reset_index(drop=True)\n",
    "    besthits = besthits[~besthits.duplicated(['KO','taxonomy'])].reset_index(drop=True)\n",
    "    return besthits"
   ]
  },
  {
   "cell_type": "code",
   "execution_count": 22,
   "metadata": {},
   "outputs": [],
   "source": [
    "df_besthits = pd.read_table(\"C:/Users/eulle/Documents/metagenomica/marbella/besthits_E7.m8\")\n",
    "\n",
    "columns_csv = ['qseqid' ,'sseqid' ,'pident' ,'length','mismatch','gapopen','qstart' ,'qend' ,'sstart' ,'send' ,'evalue' ,'bitscore']\n",
    "row_values = pd.Series(df_besthits.columns)\n",
    "df_besthits = pd.DataFrame(np.vstack([df_besthits.columns,df_besthits]))\n",
    "df_besthits.columns = columns_csv\n"
   ]
  },
  {
   "cell_type": "code",
   "execution_count": 23,
   "metadata": {},
   "outputs": [],
   "source": [
    "gi_number = [re.findall(r\"(?<=GI:|gi:).*?(?=\\||p)\", ii[1]['sseqid']) for ii in df_besthits.iterrows()]\n",
    "gi_number = functools.reduce(operator.iconcat, gi_number, [])\n",
    "gi_number = list(set(gi_number))\n",
    "\n",
    "uniprot_id = [re.findall(r\"(?<=BL:|ot:).*?(?=\\||p)\",ii[1]['sseqid']) for ii in df_besthits.iterrows()]\n",
    "uniprot_id = functools.reduce(operator.iconcat, uniprot_id, [])\n",
    "uniprot_id = list(set(uniprot_id))\n",
    "\n",
    "chunk_gi = list(create_chunks(gi_number,1000))\n",
    "chunk_uniprot = list(create_chunks(uniprot_id,1000))"
   ]
  },
  {
   "cell_type": "code",
   "execution_count": 24,
   "metadata": {},
   "outputs": [],
   "source": [
    "# Criar uma função para escrever os arquivos\n",
    "map_gi = ThreadPool(10).imap(mapping_ids,chunk_gi)\n",
    "map_uniprot = ThreadPool(10).imap(functools.partial(mapping_ids,source_fmt='ACC',target_fmt='KO_ID'),chunk_uniprot)\n",
    "\n",
    "parent_dir = \"D:/eulle/importante/\"\n",
    "dir_gi_uni = \"gi_number-uni\"\n",
    "dir_uni_ko = \"uniprot-ko_id\"\n",
    "\n",
    "if(os.path.isdir('D:/eulle/importante/gi_number-uni/')==False):\n",
    "    os.mkdir(os.path.join(parent_dir, dir_gi_uni))\n",
    "    for index,ii in enumerate(map_gi):\n",
    "        with open('D:/eulle/importante/gi_number-uni/' + secrets.token_hex(15) +'.csv', 'w') as file:\n",
    "            file.write(ii)\n",
    "else:\n",
    "    for index,ii in enumerate(map_gi):\n",
    "        with open('D:/eulle/importante/gi_number-uni/' + secrets.token_hex(15) +'.csv', 'w') as file:\n",
    "            file.write(ii)\n",
    "            \n",
    "            \n",
    "if(os.path.isdir('D:/eulle/importante/uniprot-ko_id/')==False):        \n",
    "    os.mkdir(os.path.join(parent_dir, dir_uni_ko))\n",
    "    for index,ii in enumerate(map_uniprot): \n",
    "        with open('D:/eulle/importante/uniprot-ko_id/' + secrets.token_hex(15) +'.csv', 'w') as file:\n",
    "            file.write(ii)\n",
    "else:\n",
    "    for index,ii in enumerate(map_gi):\n",
    "        with open('D:/eulle/importante/uniprot-ko_id/' + secrets.token_hex(15) +'.csv', 'w') as file:\n",
    "            file.write(ii)\n",
    "    "
   ]
  },
  {
   "cell_type": "code",
   "execution_count": 25,
   "metadata": {},
   "outputs": [],
   "source": [
    "# Pensar em uma forma de melhorar esses downloads\n",
    "gi_uniprot_concat = concat_dfs(os.chdir(\"D:/eulle/importante/gi_number-uni/\"),\"csv\")\n",
    "gi_uniprot_concat = gi_uniprot_concat.drop_duplicates(\"From\")\n",
    "gi_uniprot_concat = gi_uniprot_concat.reset_index(drop=True)\n",
    "gi_uniprot_concat.columns = [\"GI\",\"Uniprot_ID\"]\n",
    "\n",
    "gi_uniprot_concat.to_csv(\"D:/eulle/importante/df_gi_uniprot-E7.csv\",sep=\"\\t\",encoding=\"utf-8\",index=False)\n",
    "\n",
    "list_gi_uniprot = list(gi_uniprot_concat[\"Uniprot_ID\"])\n",
    "chunk_uniprot = list(create_chunks(list_gi_uniprot,1000))\n",
    "map_uniprot = ThreadPool(10).imap(functools.partial(mapping_ids,source_fmt='ACC',target_fmt='KO_ID'),chunk_uniprot)\n",
    "\n",
    "for index,ii in enumerate(map_uniprot): \n",
    "    with open('D:/eulle/importante/uniprot-ko_id/'+ secrets.token_hex(15) +'.csv', 'w') as file:\n",
    "        file.write(ii)\n",
    "\n"
   ]
  },
  {
   "cell_type": "code",
   "execution_count": 26,
   "metadata": {},
   "outputs": [],
   "source": [
    "uniprot_ko_concat = concat_dfs(os.chdir(\"D:/eulle/importante/uniprot-ko_id/\"),\"csv\")\n",
    "uniprot_ko_concat.columns = [\"Uniprot_ID\",\"KO\"]\n",
    "uniprot_ko_concat = uniprot_ko_concat.reset_index(drop=True)\n",
    "\n",
    "uniprot_ko_concat.to_csv(\"D:/eulle/importante/df_ko_ids_E7.csv\",sep=\"\\t\",encoding=\"utf-8\",index=False)"
   ]
  },
  {
   "cell_type": "code",
   "execution_count": 12,
   "metadata": {},
   "outputs": [
    {
     "data": {
      "text/html": [
       "<div>\n",
       "<style scoped>\n",
       "    .dataframe tbody tr th:only-of-type {\n",
       "        vertical-align: middle;\n",
       "    }\n",
       "\n",
       "    .dataframe tbody tr th {\n",
       "        vertical-align: top;\n",
       "    }\n",
       "\n",
       "    .dataframe thead th {\n",
       "        text-align: right;\n",
       "    }\n",
       "</style>\n",
       "<table border=\"1\" class=\"dataframe\">\n",
       "  <thead>\n",
       "    <tr style=\"text-align: right;\">\n",
       "      <th></th>\n",
       "      <th>ID</th>\n",
       "      <th>qseqid</th>\n",
       "      <th>Proteins</th>\n",
       "      <th>KO</th>\n",
       "      <th>Pathway</th>\n",
       "      <th>id_read</th>\n",
       "      <th>taxonomy</th>\n",
       "    </tr>\n",
       "  </thead>\n",
       "  <tbody>\n",
       "    <tr>\n",
       "      <th>0</th>\n",
       "      <td>17736947</td>\n",
       "      <td>N2D9U:01641:01705</td>\n",
       "      <td>3-oxoadipyl-CoA_thiolase</td>\n",
       "      <td>K07823</td>\n",
       "      <td>Benzoate degradation;Microbial metabolism in d...</td>\n",
       "      <td>N2D9U:01641:01705</td>\n",
       "      <td>Acinetobacter</td>\n",
       "    </tr>\n",
       "    <tr>\n",
       "      <th>1</th>\n",
       "      <td>17736947</td>\n",
       "      <td>N2D9U:02039:00908</td>\n",
       "      <td>3-oxoadipyl-CoA_thiolase</td>\n",
       "      <td>K07823</td>\n",
       "      <td>Benzoate degradation;Microbial metabolism in d...</td>\n",
       "      <td>N2D9U:02039:00908</td>\n",
       "      <td>Acinetobacter</td>\n",
       "    </tr>\n",
       "    <tr>\n",
       "      <th>2</th>\n",
       "      <td>17736947</td>\n",
       "      <td>N2D9U:03067:01836</td>\n",
       "      <td>3-oxoadipyl-CoA_thiolase</td>\n",
       "      <td>K07823</td>\n",
       "      <td>Benzoate degradation;Microbial metabolism in d...</td>\n",
       "      <td>N2D9U:03067:01836</td>\n",
       "      <td>Acinetobacter</td>\n",
       "    </tr>\n",
       "    <tr>\n",
       "      <th>3</th>\n",
       "      <td>17736947</td>\n",
       "      <td>N2D9U:02256:01640</td>\n",
       "      <td>3-oxoadipyl-CoA_thiolase</td>\n",
       "      <td>K07823</td>\n",
       "      <td>Benzoate degradation;Microbial metabolism in d...</td>\n",
       "      <td>N2D9U:02256:01640</td>\n",
       "      <td>Acinetobacter</td>\n",
       "    </tr>\n",
       "    <tr>\n",
       "      <th>4</th>\n",
       "      <td>17736947</td>\n",
       "      <td>N2D9U:02304:01185</td>\n",
       "      <td>3-oxoadipyl-CoA_thiolase</td>\n",
       "      <td>K07823</td>\n",
       "      <td>Benzoate degradation;Microbial metabolism in d...</td>\n",
       "      <td>N2D9U:02304:01185</td>\n",
       "      <td>Acinetobacter</td>\n",
       "    </tr>\n",
       "    <tr>\n",
       "      <th>...</th>\n",
       "      <td>...</td>\n",
       "      <td>...</td>\n",
       "      <td>...</td>\n",
       "      <td>...</td>\n",
       "      <td>...</td>\n",
       "      <td>...</td>\n",
       "      <td>...</td>\n",
       "    </tr>\n",
       "    <tr>\n",
       "      <th>12744</th>\n",
       "      <td>584451878</td>\n",
       "      <td>N2D9U:00071:00654</td>\n",
       "      <td>GTPases_-_Sulfate_adenylate_transferase_subunit</td>\n",
       "      <td>K00956</td>\n",
       "      <td>Purine metabolism;Monobactam biosynthesis;Sele...</td>\n",
       "      <td>N2D9U:00071:00654</td>\n",
       "      <td>Acinetobacter</td>\n",
       "    </tr>\n",
       "    <tr>\n",
       "      <th>12745</th>\n",
       "      <td>584451878</td>\n",
       "      <td>N2D9U:01300:01801</td>\n",
       "      <td>GTPases_-_Sulfate_adenylate_transferase_subunit</td>\n",
       "      <td>K00956</td>\n",
       "      <td>Purine metabolism;Monobactam biosynthesis;Sele...</td>\n",
       "      <td>N2D9U:01300:01801</td>\n",
       "      <td>Acinetobacter</td>\n",
       "    </tr>\n",
       "    <tr>\n",
       "      <th>12746</th>\n",
       "      <td>597515631</td>\n",
       "      <td>N2D9U:01329:02207</td>\n",
       "      <td>NaN</td>\n",
       "      <td>K05549</td>\n",
       "      <td>Benzoate degradation;Fluorobenzoate degradatio...</td>\n",
       "      <td>NaN</td>\n",
       "      <td>NaN</td>\n",
       "    </tr>\n",
       "    <tr>\n",
       "      <th>12747</th>\n",
       "      <td>Q04747</td>\n",
       "      <td>N2D9U:01938:02826</td>\n",
       "      <td>surfactin_synthetase</td>\n",
       "      <td>K15655</td>\n",
       "      <td>Nonribosomal peptide structures;Quorum sensing</td>\n",
       "      <td>N2D9U:01938:02826</td>\n",
       "      <td>Acinetobacter</td>\n",
       "    </tr>\n",
       "    <tr>\n",
       "      <th>12748</th>\n",
       "      <td>Q04747</td>\n",
       "      <td>N2D9U:02473:02632</td>\n",
       "      <td>surfactin_synthetase</td>\n",
       "      <td>K15655</td>\n",
       "      <td>Nonribosomal peptide structures;Quorum sensing</td>\n",
       "      <td>N2D9U:02473:02632</td>\n",
       "      <td>Acinetobacter</td>\n",
       "    </tr>\n",
       "  </tbody>\n",
       "</table>\n",
       "<p>12749 rows × 7 columns</p>\n",
       "</div>"
      ],
      "text/plain": [
       "              ID             qseqid  \\\n",
       "0       17736947  N2D9U:01641:01705   \n",
       "1       17736947  N2D9U:02039:00908   \n",
       "2       17736947  N2D9U:03067:01836   \n",
       "3       17736947  N2D9U:02256:01640   \n",
       "4       17736947  N2D9U:02304:01185   \n",
       "...          ...                ...   \n",
       "12744  584451878  N2D9U:00071:00654   \n",
       "12745  584451878  N2D9U:01300:01801   \n",
       "12746  597515631  N2D9U:01329:02207   \n",
       "12747     Q04747  N2D9U:01938:02826   \n",
       "12748     Q04747  N2D9U:02473:02632   \n",
       "\n",
       "                                              Proteins      KO  \\\n",
       "0                             3-oxoadipyl-CoA_thiolase  K07823   \n",
       "1                             3-oxoadipyl-CoA_thiolase  K07823   \n",
       "2                             3-oxoadipyl-CoA_thiolase  K07823   \n",
       "3                             3-oxoadipyl-CoA_thiolase  K07823   \n",
       "4                             3-oxoadipyl-CoA_thiolase  K07823   \n",
       "...                                                ...     ...   \n",
       "12744  GTPases_-_Sulfate_adenylate_transferase_subunit  K00956   \n",
       "12745  GTPases_-_Sulfate_adenylate_transferase_subunit  K00956   \n",
       "12746                                              NaN  K05549   \n",
       "12747                             surfactin_synthetase  K15655   \n",
       "12748                             surfactin_synthetase  K15655   \n",
       "\n",
       "                                                 Pathway            id_read  \\\n",
       "0      Benzoate degradation;Microbial metabolism in d...  N2D9U:01641:01705   \n",
       "1      Benzoate degradation;Microbial metabolism in d...  N2D9U:02039:00908   \n",
       "2      Benzoate degradation;Microbial metabolism in d...  N2D9U:03067:01836   \n",
       "3      Benzoate degradation;Microbial metabolism in d...  N2D9U:02256:01640   \n",
       "4      Benzoate degradation;Microbial metabolism in d...  N2D9U:02304:01185   \n",
       "...                                                  ...                ...   \n",
       "12744  Purine metabolism;Monobactam biosynthesis;Sele...  N2D9U:00071:00654   \n",
       "12745  Purine metabolism;Monobactam biosynthesis;Sele...  N2D9U:01300:01801   \n",
       "12746  Benzoate degradation;Fluorobenzoate degradatio...                NaN   \n",
       "12747     Nonribosomal peptide structures;Quorum sensing  N2D9U:01938:02826   \n",
       "12748     Nonribosomal peptide structures;Quorum sensing  N2D9U:02473:02632   \n",
       "\n",
       "            taxonomy  \n",
       "0      Acinetobacter  \n",
       "1      Acinetobacter  \n",
       "2      Acinetobacter  \n",
       "3      Acinetobacter  \n",
       "4      Acinetobacter  \n",
       "...              ...  \n",
       "12744  Acinetobacter  \n",
       "12745  Acinetobacter  \n",
       "12746            NaN  \n",
       "12747  Acinetobacter  \n",
       "12748  Acinetobacter  \n",
       "\n",
       "[12749 rows x 7 columns]"
      ]
     },
     "execution_count": 12,
     "metadata": {},
     "output_type": "execute_result"
    }
   ],
   "source": [
    "basta_output = pd.read_fwf(\"C:/Users/eulle/Documents/metagenomica/besthit_CoSQG.txt\")\n",
    "besthits = pd.read_csv(\"C:/Users/eulle/Documents/metagenomica/besthits_pathways-CoSQG-julia.csv\",sep=\"]\")\n",
    "taxmy = taxonomy_metag(basta_output,besthits)\n",
    "taxmy\n",
    "#taxmy.to_csv(\"C:/Users/eulle/Documents/metagenomica/taxonomy_besthits-CoSQG.csv\",sep=\"]\",encoding=\"utf-8\",index=False)\n",
    "\n",
    "\n",
    "# É SÓ PEGAR O UNIQUE DA TABELA TAXONOMY E EXCLUIR OS UNKNOWN -- FEITO\n",
    "# SABER QUAIS KOs NÀO FORAM MAPEADOS E CONTAR"
   ]
  },
  {
   "cell_type": "code",
   "execution_count": 7,
   "metadata": {
    "scrolled": true
   },
   "outputs": [
    {
     "data": {
      "application/vnd.plotly.v1+json": {
       "config": {
        "plotlyServerURL": "https://plot.ly"
       },
       "data": [
        {
         "domain": {
          "column": 1
         },
         "ids": [
          "Enzymatic-Flowery",
          "Enzymatic-Fruity",
          "Enzymatic-Herby",
          "Sugar Browning-Nutty",
          "Sugar Browning-Carmelly",
          "Sugar Browning-Chocolatey",
          "Dry Distillation-Resinous",
          "Dry Distillation-Spicy",
          "Dry Distillation-Carbony",
          "Bitter-Pungent",
          "Bitter-Harsh",
          "Salt-Sharp",
          "Salt-Bland",
          "Sweet-Mellow",
          "Sweet-Acidy",
          "Sour-Winey",
          "Sour-Soury",
          "Flowery-Floral",
          "Flowery-Fragrant",
          "Fruity-Citrus",
          "Fruity-Berry-like",
          "Herby-Alliaceous",
          "Herby-Leguminous",
          "Nutty-Nut-like",
          "Nutty-Malt-like",
          "Carmelly-Candy-like",
          "Carmelly-Syrup-like",
          "Chocolatey-Chocolate-like",
          "Chocolatey-Vanilla-like",
          "Resinous-Turpeny",
          "Resinous-Medicinal",
          "Spicy-Warming",
          "Spicy-Pungent",
          "Carbony-Smokey",
          "Carbony-Ashy",
          "Pungent-Creosol",
          "Pungent-Phenolic",
          "Harsh-Caustic",
          "Harsh-Alkaline",
          "Sharp-Astringent",
          "Sharp-Rough",
          "Bland-Neutral",
          "Bland-Soft",
          "Mellow-Delicate",
          "Mellow-Mild",
          "Acidy-Nippy",
          "Acidy-Piquant",
          "Winey-Tangy",
          "Winey-Tart",
          "Soury-Hard",
          "Soury-Acrid",
          "Floral-Coffee Blossom",
          "Floral-Tea Rose",
          "Fragrant-Cardamon Caraway",
          "Fragrant-Coriander Seeds",
          "Citrus-Lemon",
          "Citrus-Apple",
          "Berry-like-Apricot",
          "Berry-like-Blackberry",
          "Alliaceous-Onion",
          "Alliaceous-Garlic",
          "Leguminous-Cucumber",
          "Leguminous-Garden Peas",
          "Nut-like-Roasted Peanuts",
          "Nut-like-Walnuts",
          "Malt-like-Balsamic Rice",
          "Malt-like-Toast",
          "Candy-like-Roasted Hazelnut",
          "Candy-like-Roasted Almond",
          "Syrup-like-Honey",
          "Syrup-like-Maple Syrup",
          "Chocolate-like-Bakers",
          "Chocolate-like-Dark Chocolate",
          "Vanilla-like-Swiss",
          "Vanilla-like-Butter",
          "Turpeny-Piney",
          "Turpeny-Blackcurrant-like",
          "Medicinal-Camphoric",
          "Medicinal-Cineolic",
          "Warming-Cedar",
          "Warming-Pepper",
          "Pungent-Clove",
          "Pungent-Thyme",
          "Smokey-Tarry",
          "Smokey-Pipe Tobacco",
          "Ashy-Burnt",
          "Ashy-Charred"
         ],
         "insidetextorientation": "radial",
         "labels": [
          "Flowery",
          "Fruity",
          "Herby",
          "Nutty",
          "Carmelly",
          "Chocolatey",
          "Resinous",
          "Spicy",
          "Carbony",
          "Pungent",
          "Harsh",
          "Sharp",
          "Bland",
          "Mellow",
          "Acidy",
          "Winey",
          "Soury",
          "Floral",
          "Fragrant",
          "Citrus",
          "Berry-like",
          "Alliaceous",
          "Leguminous",
          "Nut-like",
          "Malt-like",
          "Candy-like",
          "Syrup-like",
          "Chocolate-like",
          "Vanilla-like",
          "Turpeny",
          "Medicinal",
          "Warming",
          "Pungent",
          "Smokey",
          "Ashy",
          "Creosol",
          "Phenolic",
          "Caustic",
          "Alkaline",
          "Astringent",
          "Rough",
          "Neutral",
          "Soft",
          "Delicate",
          "Mild",
          "Nippy",
          "Piquant",
          "Tangy",
          "Tart",
          "Hard",
          "Acrid",
          "Coffee Blossom",
          "Tea Rose",
          "Cardamon Caraway",
          "Coriander Seeds",
          "Lemon",
          "Apple",
          "Apricot",
          "Blackberry",
          "Onion",
          "Garlic",
          "Cucumber",
          "Garden Peas",
          "Roasted Peanuts",
          "Walnuts",
          "Balsamic Rice",
          "Toast",
          "Roasted Hazelnut",
          "Roasted Almond",
          "Honey",
          "Maple Syrup",
          "Bakers",
          "Dark Chocolate",
          "Swiss",
          "Butter",
          "Piney",
          "Blackcurrant-like",
          "Camphoric",
          "Cineolic",
          "Cedar",
          "Pepper",
          "Clove",
          "Thyme",
          "Tarry",
          "Pipe Tobacco",
          "Burnt",
          "Charred"
         ],
         "maxdepth": 2,
         "parents": [
          null,
          null,
          null,
          null,
          null,
          null,
          null,
          null,
          null,
          null,
          null,
          null,
          null,
          null,
          null,
          null,
          null,
          "Enzymatic-Flowery",
          "Enzymatic-Flowery",
          "Enzymatic-Fruity",
          "Enzymatic-Fruity",
          "Enzymatic-Herby",
          "Enzymatic-Herby",
          "Sugar Browning-Nutty",
          "Sugar Browning-Nutty",
          "Sugar Browning-Carmelly",
          "Sugar Browning-Carmelly",
          "Sugar Browning-Chocolatey",
          "Sugar Browning-Chocolatey",
          "Dry Distillation-Resinous",
          "Dry Distillation-Resinous",
          "Dry Distillation-Spicy",
          "Dry Distillation-Spicy",
          "Dry Distillation-Carbony",
          "Dry Distillation-Carbony",
          "Bitter-Pungent",
          "Bitter-Pungent",
          "Bitter-Harsh",
          "Bitter-Harsh",
          "Salt-Sharp",
          "Salt-Sharp",
          "Salt-Bland",
          "Salt-Bland",
          "Sweet-Mellow",
          "Sweet-Mellow",
          "Sweet-Acidy",
          "Sweet-Acidy",
          "Sour-Winey",
          "Sour-Winey",
          "Sour-Soury",
          "Sour-Soury",
          "Flowery-Floral",
          "Flowery-Floral",
          "Flowery-Fragrant",
          "Flowery-Fragrant",
          "Fruity-Citrus",
          "Fruity-Citrus",
          "Fruity-Berry-like",
          "Fruity-Berry-like",
          "Herby-Alliaceous",
          "Herby-Alliaceous",
          "Herby-Leguminous",
          "Herby-Leguminous",
          "Nutty-Nut-like",
          "Nutty-Nut-like",
          "Nutty-Malt-like",
          "Nutty-Malt-like",
          "Carmelly-Candy-like",
          "Carmelly-Candy-like",
          "Carmelly-Syrup-like",
          "Carmelly-Syrup-like",
          "Chocolatey-Chocolate-like",
          "Chocolatey-Chocolate-like",
          "Chocolatey-Vanilla-like",
          "Chocolatey-Vanilla-like",
          "Resinous-Turpeny",
          "Resinous-Turpeny",
          "Resinous-Medicinal",
          "Resinous-Medicinal",
          "Spicy-Warming",
          "Spicy-Warming",
          "Spicy-Pungent",
          "Spicy-Pungent",
          "Carbony-Smokey",
          "Carbony-Smokey",
          "Carbony-Ashy",
          "Carbony-Ashy"
         ],
         "type": "sunburst"
        }
       ],
       "layout": {
        "margin": {
         "b": 10,
         "l": 10,
         "r": 10,
         "t": 10
        },
        "template": {
         "data": {
          "bar": [
           {
            "error_x": {
             "color": "#2a3f5f"
            },
            "error_y": {
             "color": "#2a3f5f"
            },
            "marker": {
             "line": {
              "color": "#E5ECF6",
              "width": 0.5
             }
            },
            "type": "bar"
           }
          ],
          "barpolar": [
           {
            "marker": {
             "line": {
              "color": "#E5ECF6",
              "width": 0.5
             }
            },
            "type": "barpolar"
           }
          ],
          "carpet": [
           {
            "aaxis": {
             "endlinecolor": "#2a3f5f",
             "gridcolor": "white",
             "linecolor": "white",
             "minorgridcolor": "white",
             "startlinecolor": "#2a3f5f"
            },
            "baxis": {
             "endlinecolor": "#2a3f5f",
             "gridcolor": "white",
             "linecolor": "white",
             "minorgridcolor": "white",
             "startlinecolor": "#2a3f5f"
            },
            "type": "carpet"
           }
          ],
          "choropleth": [
           {
            "colorbar": {
             "outlinewidth": 0,
             "ticks": ""
            },
            "type": "choropleth"
           }
          ],
          "contour": [
           {
            "colorbar": {
             "outlinewidth": 0,
             "ticks": ""
            },
            "colorscale": [
             [
              0,
              "#0d0887"
             ],
             [
              0.1111111111111111,
              "#46039f"
             ],
             [
              0.2222222222222222,
              "#7201a8"
             ],
             [
              0.3333333333333333,
              "#9c179e"
             ],
             [
              0.4444444444444444,
              "#bd3786"
             ],
             [
              0.5555555555555556,
              "#d8576b"
             ],
             [
              0.6666666666666666,
              "#ed7953"
             ],
             [
              0.7777777777777778,
              "#fb9f3a"
             ],
             [
              0.8888888888888888,
              "#fdca26"
             ],
             [
              1,
              "#f0f921"
             ]
            ],
            "type": "contour"
           }
          ],
          "contourcarpet": [
           {
            "colorbar": {
             "outlinewidth": 0,
             "ticks": ""
            },
            "type": "contourcarpet"
           }
          ],
          "heatmap": [
           {
            "colorbar": {
             "outlinewidth": 0,
             "ticks": ""
            },
            "colorscale": [
             [
              0,
              "#0d0887"
             ],
             [
              0.1111111111111111,
              "#46039f"
             ],
             [
              0.2222222222222222,
              "#7201a8"
             ],
             [
              0.3333333333333333,
              "#9c179e"
             ],
             [
              0.4444444444444444,
              "#bd3786"
             ],
             [
              0.5555555555555556,
              "#d8576b"
             ],
             [
              0.6666666666666666,
              "#ed7953"
             ],
             [
              0.7777777777777778,
              "#fb9f3a"
             ],
             [
              0.8888888888888888,
              "#fdca26"
             ],
             [
              1,
              "#f0f921"
             ]
            ],
            "type": "heatmap"
           }
          ],
          "heatmapgl": [
           {
            "colorbar": {
             "outlinewidth": 0,
             "ticks": ""
            },
            "colorscale": [
             [
              0,
              "#0d0887"
             ],
             [
              0.1111111111111111,
              "#46039f"
             ],
             [
              0.2222222222222222,
              "#7201a8"
             ],
             [
              0.3333333333333333,
              "#9c179e"
             ],
             [
              0.4444444444444444,
              "#bd3786"
             ],
             [
              0.5555555555555556,
              "#d8576b"
             ],
             [
              0.6666666666666666,
              "#ed7953"
             ],
             [
              0.7777777777777778,
              "#fb9f3a"
             ],
             [
              0.8888888888888888,
              "#fdca26"
             ],
             [
              1,
              "#f0f921"
             ]
            ],
            "type": "heatmapgl"
           }
          ],
          "histogram": [
           {
            "marker": {
             "colorbar": {
              "outlinewidth": 0,
              "ticks": ""
             }
            },
            "type": "histogram"
           }
          ],
          "histogram2d": [
           {
            "colorbar": {
             "outlinewidth": 0,
             "ticks": ""
            },
            "colorscale": [
             [
              0,
              "#0d0887"
             ],
             [
              0.1111111111111111,
              "#46039f"
             ],
             [
              0.2222222222222222,
              "#7201a8"
             ],
             [
              0.3333333333333333,
              "#9c179e"
             ],
             [
              0.4444444444444444,
              "#bd3786"
             ],
             [
              0.5555555555555556,
              "#d8576b"
             ],
             [
              0.6666666666666666,
              "#ed7953"
             ],
             [
              0.7777777777777778,
              "#fb9f3a"
             ],
             [
              0.8888888888888888,
              "#fdca26"
             ],
             [
              1,
              "#f0f921"
             ]
            ],
            "type": "histogram2d"
           }
          ],
          "histogram2dcontour": [
           {
            "colorbar": {
             "outlinewidth": 0,
             "ticks": ""
            },
            "colorscale": [
             [
              0,
              "#0d0887"
             ],
             [
              0.1111111111111111,
              "#46039f"
             ],
             [
              0.2222222222222222,
              "#7201a8"
             ],
             [
              0.3333333333333333,
              "#9c179e"
             ],
             [
              0.4444444444444444,
              "#bd3786"
             ],
             [
              0.5555555555555556,
              "#d8576b"
             ],
             [
              0.6666666666666666,
              "#ed7953"
             ],
             [
              0.7777777777777778,
              "#fb9f3a"
             ],
             [
              0.8888888888888888,
              "#fdca26"
             ],
             [
              1,
              "#f0f921"
             ]
            ],
            "type": "histogram2dcontour"
           }
          ],
          "mesh3d": [
           {
            "colorbar": {
             "outlinewidth": 0,
             "ticks": ""
            },
            "type": "mesh3d"
           }
          ],
          "parcoords": [
           {
            "line": {
             "colorbar": {
              "outlinewidth": 0,
              "ticks": ""
             }
            },
            "type": "parcoords"
           }
          ],
          "pie": [
           {
            "automargin": true,
            "type": "pie"
           }
          ],
          "scatter": [
           {
            "marker": {
             "colorbar": {
              "outlinewidth": 0,
              "ticks": ""
             }
            },
            "type": "scatter"
           }
          ],
          "scatter3d": [
           {
            "line": {
             "colorbar": {
              "outlinewidth": 0,
              "ticks": ""
             }
            },
            "marker": {
             "colorbar": {
              "outlinewidth": 0,
              "ticks": ""
             }
            },
            "type": "scatter3d"
           }
          ],
          "scattercarpet": [
           {
            "marker": {
             "colorbar": {
              "outlinewidth": 0,
              "ticks": ""
             }
            },
            "type": "scattercarpet"
           }
          ],
          "scattergeo": [
           {
            "marker": {
             "colorbar": {
              "outlinewidth": 0,
              "ticks": ""
             }
            },
            "type": "scattergeo"
           }
          ],
          "scattergl": [
           {
            "marker": {
             "colorbar": {
              "outlinewidth": 0,
              "ticks": ""
             }
            },
            "type": "scattergl"
           }
          ],
          "scattermapbox": [
           {
            "marker": {
             "colorbar": {
              "outlinewidth": 0,
              "ticks": ""
             }
            },
            "type": "scattermapbox"
           }
          ],
          "scatterpolar": [
           {
            "marker": {
             "colorbar": {
              "outlinewidth": 0,
              "ticks": ""
             }
            },
            "type": "scatterpolar"
           }
          ],
          "scatterpolargl": [
           {
            "marker": {
             "colorbar": {
              "outlinewidth": 0,
              "ticks": ""
             }
            },
            "type": "scatterpolargl"
           }
          ],
          "scatterternary": [
           {
            "marker": {
             "colorbar": {
              "outlinewidth": 0,
              "ticks": ""
             }
            },
            "type": "scatterternary"
           }
          ],
          "surface": [
           {
            "colorbar": {
             "outlinewidth": 0,
             "ticks": ""
            },
            "colorscale": [
             [
              0,
              "#0d0887"
             ],
             [
              0.1111111111111111,
              "#46039f"
             ],
             [
              0.2222222222222222,
              "#7201a8"
             ],
             [
              0.3333333333333333,
              "#9c179e"
             ],
             [
              0.4444444444444444,
              "#bd3786"
             ],
             [
              0.5555555555555556,
              "#d8576b"
             ],
             [
              0.6666666666666666,
              "#ed7953"
             ],
             [
              0.7777777777777778,
              "#fb9f3a"
             ],
             [
              0.8888888888888888,
              "#fdca26"
             ],
             [
              1,
              "#f0f921"
             ]
            ],
            "type": "surface"
           }
          ],
          "table": [
           {
            "cells": {
             "fill": {
              "color": "#EBF0F8"
             },
             "line": {
              "color": "white"
             }
            },
            "header": {
             "fill": {
              "color": "#C8D4E3"
             },
             "line": {
              "color": "white"
             }
            },
            "type": "table"
           }
          ]
         },
         "layout": {
          "annotationdefaults": {
           "arrowcolor": "#2a3f5f",
           "arrowhead": 0,
           "arrowwidth": 1
          },
          "coloraxis": {
           "colorbar": {
            "outlinewidth": 0,
            "ticks": ""
           }
          },
          "colorscale": {
           "diverging": [
            [
             0,
             "#8e0152"
            ],
            [
             0.1,
             "#c51b7d"
            ],
            [
             0.2,
             "#de77ae"
            ],
            [
             0.3,
             "#f1b6da"
            ],
            [
             0.4,
             "#fde0ef"
            ],
            [
             0.5,
             "#f7f7f7"
            ],
            [
             0.6,
             "#e6f5d0"
            ],
            [
             0.7,
             "#b8e186"
            ],
            [
             0.8,
             "#7fbc41"
            ],
            [
             0.9,
             "#4d9221"
            ],
            [
             1,
             "#276419"
            ]
           ],
           "sequential": [
            [
             0,
             "#0d0887"
            ],
            [
             0.1111111111111111,
             "#46039f"
            ],
            [
             0.2222222222222222,
             "#7201a8"
            ],
            [
             0.3333333333333333,
             "#9c179e"
            ],
            [
             0.4444444444444444,
             "#bd3786"
            ],
            [
             0.5555555555555556,
             "#d8576b"
            ],
            [
             0.6666666666666666,
             "#ed7953"
            ],
            [
             0.7777777777777778,
             "#fb9f3a"
            ],
            [
             0.8888888888888888,
             "#fdca26"
            ],
            [
             1,
             "#f0f921"
            ]
           ],
           "sequentialminus": [
            [
             0,
             "#0d0887"
            ],
            [
             0.1111111111111111,
             "#46039f"
            ],
            [
             0.2222222222222222,
             "#7201a8"
            ],
            [
             0.3333333333333333,
             "#9c179e"
            ],
            [
             0.4444444444444444,
             "#bd3786"
            ],
            [
             0.5555555555555556,
             "#d8576b"
            ],
            [
             0.6666666666666666,
             "#ed7953"
            ],
            [
             0.7777777777777778,
             "#fb9f3a"
            ],
            [
             0.8888888888888888,
             "#fdca26"
            ],
            [
             1,
             "#f0f921"
            ]
           ]
          },
          "colorway": [
           "#636efa",
           "#EF553B",
           "#00cc96",
           "#ab63fa",
           "#FFA15A",
           "#19d3f3",
           "#FF6692",
           "#B6E880",
           "#FF97FF",
           "#FECB52"
          ],
          "font": {
           "color": "#2a3f5f"
          },
          "geo": {
           "bgcolor": "white",
           "lakecolor": "white",
           "landcolor": "#E5ECF6",
           "showlakes": true,
           "showland": true,
           "subunitcolor": "white"
          },
          "hoverlabel": {
           "align": "left"
          },
          "hovermode": "closest",
          "mapbox": {
           "style": "light"
          },
          "paper_bgcolor": "white",
          "plot_bgcolor": "#E5ECF6",
          "polar": {
           "angularaxis": {
            "gridcolor": "white",
            "linecolor": "white",
            "ticks": ""
           },
           "bgcolor": "#E5ECF6",
           "radialaxis": {
            "gridcolor": "white",
            "linecolor": "white",
            "ticks": ""
           }
          },
          "scene": {
           "xaxis": {
            "backgroundcolor": "#E5ECF6",
            "gridcolor": "white",
            "gridwidth": 2,
            "linecolor": "white",
            "showbackground": true,
            "ticks": "",
            "zerolinecolor": "white"
           },
           "yaxis": {
            "backgroundcolor": "#E5ECF6",
            "gridcolor": "white",
            "gridwidth": 2,
            "linecolor": "white",
            "showbackground": true,
            "ticks": "",
            "zerolinecolor": "white"
           },
           "zaxis": {
            "backgroundcolor": "#E5ECF6",
            "gridcolor": "white",
            "gridwidth": 2,
            "linecolor": "white",
            "showbackground": true,
            "ticks": "",
            "zerolinecolor": "white"
           }
          },
          "shapedefaults": {
           "line": {
            "color": "#2a3f5f"
           }
          },
          "ternary": {
           "aaxis": {
            "gridcolor": "white",
            "linecolor": "white",
            "ticks": ""
           },
           "baxis": {
            "gridcolor": "white",
            "linecolor": "white",
            "ticks": ""
           },
           "bgcolor": "#E5ECF6",
           "caxis": {
            "gridcolor": "white",
            "linecolor": "white",
            "ticks": ""
           }
          },
          "title": {
           "x": 0.05
          },
          "xaxis": {
           "automargin": true,
           "gridcolor": "white",
           "linecolor": "white",
           "ticks": "",
           "title": {
            "standoff": 15
           },
           "zerolinecolor": "white",
           "zerolinewidth": 2
          },
          "yaxis": {
           "automargin": true,
           "gridcolor": "white",
           "linecolor": "white",
           "ticks": "",
           "title": {
            "standoff": 15
           },
           "zerolinecolor": "white",
           "zerolinewidth": 2
          }
         }
        }
       }
      },
      "text/html": [
       "<div>                            <div id=\"d2d23574-7f37-45e8-849d-ffdb4cdd047f\" class=\"plotly-graph-div\" style=\"height:525px; width:100%;\"></div>            <script type=\"text/javascript\">                require([\"plotly\"], function(Plotly) {                    window.PLOTLYENV=window.PLOTLYENV || {};                                    if (document.getElementById(\"d2d23574-7f37-45e8-849d-ffdb4cdd047f\")) {                    Plotly.newPlot(                        \"d2d23574-7f37-45e8-849d-ffdb4cdd047f\",                        [{\"domain\": {\"column\": 1}, \"ids\": [\"Enzymatic-Flowery\", \"Enzymatic-Fruity\", \"Enzymatic-Herby\", \"Sugar Browning-Nutty\", \"Sugar Browning-Carmelly\", \"Sugar Browning-Chocolatey\", \"Dry Distillation-Resinous\", \"Dry Distillation-Spicy\", \"Dry Distillation-Carbony\", \"Bitter-Pungent\", \"Bitter-Harsh\", \"Salt-Sharp\", \"Salt-Bland\", \"Sweet-Mellow\", \"Sweet-Acidy\", \"Sour-Winey\", \"Sour-Soury\", \"Flowery-Floral\", \"Flowery-Fragrant\", \"Fruity-Citrus\", \"Fruity-Berry-like\", \"Herby-Alliaceous\", \"Herby-Leguminous\", \"Nutty-Nut-like\", \"Nutty-Malt-like\", \"Carmelly-Candy-like\", \"Carmelly-Syrup-like\", \"Chocolatey-Chocolate-like\", \"Chocolatey-Vanilla-like\", \"Resinous-Turpeny\", \"Resinous-Medicinal\", \"Spicy-Warming\", \"Spicy-Pungent\", \"Carbony-Smokey\", \"Carbony-Ashy\", \"Pungent-Creosol\", \"Pungent-Phenolic\", \"Harsh-Caustic\", \"Harsh-Alkaline\", \"Sharp-Astringent\", \"Sharp-Rough\", \"Bland-Neutral\", \"Bland-Soft\", \"Mellow-Delicate\", \"Mellow-Mild\", \"Acidy-Nippy\", \"Acidy-Piquant\", \"Winey-Tangy\", \"Winey-Tart\", \"Soury-Hard\", \"Soury-Acrid\", \"Floral-Coffee Blossom\", \"Floral-Tea Rose\", \"Fragrant-Cardamon Caraway\", \"Fragrant-Coriander Seeds\", \"Citrus-Lemon\", \"Citrus-Apple\", \"Berry-like-Apricot\", \"Berry-like-Blackberry\", \"Alliaceous-Onion\", \"Alliaceous-Garlic\", \"Leguminous-Cucumber\", \"Leguminous-Garden Peas\", \"Nut-like-Roasted Peanuts\", \"Nut-like-Walnuts\", \"Malt-like-Balsamic Rice\", \"Malt-like-Toast\", \"Candy-like-Roasted Hazelnut\", \"Candy-like-Roasted Almond\", \"Syrup-like-Honey\", \"Syrup-like-Maple Syrup\", \"Chocolate-like-Bakers\", \"Chocolate-like-Dark Chocolate\", \"Vanilla-like-Swiss\", \"Vanilla-like-Butter\", \"Turpeny-Piney\", \"Turpeny-Blackcurrant-like\", \"Medicinal-Camphoric\", \"Medicinal-Cineolic\", \"Warming-Cedar\", \"Warming-Pepper\", \"Pungent-Clove\", \"Pungent-Thyme\", \"Smokey-Tarry\", \"Smokey-Pipe Tobacco\", \"Ashy-Burnt\", \"Ashy-Charred\"], \"insidetextorientation\": \"radial\", \"labels\": [\"Flowery\", \"Fruity\", \"Herby\", \"Nutty\", \"Carmelly\", \"Chocolatey\", \"Resinous\", \"Spicy\", \"Carbony\", \"Pungent\", \"Harsh\", \"Sharp\", \"Bland\", \"Mellow\", \"Acidy\", \"Winey\", \"Soury\", \"Floral\", \"Fragrant\", \"Citrus\", \"Berry-like\", \"Alliaceous\", \"Leguminous\", \"Nut-like\", \"Malt-like\", \"Candy-like\", \"Syrup-like\", \"Chocolate-like\", \"Vanilla-like\", \"Turpeny\", \"Medicinal\", \"Warming\", \"Pungent\", \"Smokey\", \"Ashy\", \"Creosol\", \"Phenolic\", \"Caustic\", \"Alkaline\", \"Astringent\", \"Rough\", \"Neutral\", \"Soft\", \"Delicate\", \"Mild\", \"Nippy\", \"Piquant\", \"Tangy\", \"Tart\", \"Hard\", \"Acrid\", \"Coffee Blossom\", \"Tea Rose\", \"Cardamon Caraway\", \"Coriander Seeds\", \"Lemon\", \"Apple\", \"Apricot\", \"Blackberry\", \"Onion\", \"Garlic\", \"Cucumber\", \"Garden Peas\", \"Roasted Peanuts\", \"Walnuts\", \"Balsamic Rice\", \"Toast\", \"Roasted Hazelnut\", \"Roasted Almond\", \"Honey\", \"Maple Syrup\", \"Bakers\", \"Dark Chocolate\", \"Swiss\", \"Butter\", \"Piney\", \"Blackcurrant-like\", \"Camphoric\", \"Cineolic\", \"Cedar\", \"Pepper\", \"Clove\", \"Thyme\", \"Tarry\", \"Pipe Tobacco\", \"Burnt\", \"Charred\"], \"maxdepth\": 2, \"parents\": [null, null, null, null, null, null, null, null, null, null, null, null, null, null, null, null, null, \"Enzymatic-Flowery\", \"Enzymatic-Flowery\", \"Enzymatic-Fruity\", \"Enzymatic-Fruity\", \"Enzymatic-Herby\", \"Enzymatic-Herby\", \"Sugar Browning-Nutty\", \"Sugar Browning-Nutty\", \"Sugar Browning-Carmelly\", \"Sugar Browning-Carmelly\", \"Sugar Browning-Chocolatey\", \"Sugar Browning-Chocolatey\", \"Dry Distillation-Resinous\", \"Dry Distillation-Resinous\", \"Dry Distillation-Spicy\", \"Dry Distillation-Spicy\", \"Dry Distillation-Carbony\", \"Dry Distillation-Carbony\", \"Bitter-Pungent\", \"Bitter-Pungent\", \"Bitter-Harsh\", \"Bitter-Harsh\", \"Salt-Sharp\", \"Salt-Sharp\", \"Salt-Bland\", \"Salt-Bland\", \"Sweet-Mellow\", \"Sweet-Mellow\", \"Sweet-Acidy\", \"Sweet-Acidy\", \"Sour-Winey\", \"Sour-Winey\", \"Sour-Soury\", \"Sour-Soury\", \"Flowery-Floral\", \"Flowery-Floral\", \"Flowery-Fragrant\", \"Flowery-Fragrant\", \"Fruity-Citrus\", \"Fruity-Citrus\", \"Fruity-Berry-like\", \"Fruity-Berry-like\", \"Herby-Alliaceous\", \"Herby-Alliaceous\", \"Herby-Leguminous\", \"Herby-Leguminous\", \"Nutty-Nut-like\", \"Nutty-Nut-like\", \"Nutty-Malt-like\", \"Nutty-Malt-like\", \"Carmelly-Candy-like\", \"Carmelly-Candy-like\", \"Carmelly-Syrup-like\", \"Carmelly-Syrup-like\", \"Chocolatey-Chocolate-like\", \"Chocolatey-Chocolate-like\", \"Chocolatey-Vanilla-like\", \"Chocolatey-Vanilla-like\", \"Resinous-Turpeny\", \"Resinous-Turpeny\", \"Resinous-Medicinal\", \"Resinous-Medicinal\", \"Spicy-Warming\", \"Spicy-Warming\", \"Spicy-Pungent\", \"Spicy-Pungent\", \"Carbony-Smokey\", \"Carbony-Smokey\", \"Carbony-Ashy\", \"Carbony-Ashy\"], \"type\": \"sunburst\"}],                        {\"margin\": {\"b\": 10, \"l\": 10, \"r\": 10, \"t\": 10}, \"template\": {\"data\": {\"bar\": [{\"error_x\": {\"color\": \"#2a3f5f\"}, \"error_y\": {\"color\": \"#2a3f5f\"}, \"marker\": {\"line\": {\"color\": \"#E5ECF6\", \"width\": 0.5}}, \"type\": \"bar\"}], \"barpolar\": [{\"marker\": {\"line\": {\"color\": \"#E5ECF6\", \"width\": 0.5}}, \"type\": \"barpolar\"}], \"carpet\": [{\"aaxis\": {\"endlinecolor\": \"#2a3f5f\", \"gridcolor\": \"white\", \"linecolor\": \"white\", \"minorgridcolor\": \"white\", \"startlinecolor\": \"#2a3f5f\"}, \"baxis\": {\"endlinecolor\": \"#2a3f5f\", \"gridcolor\": \"white\", \"linecolor\": \"white\", \"minorgridcolor\": \"white\", \"startlinecolor\": \"#2a3f5f\"}, \"type\": \"carpet\"}], \"choropleth\": [{\"colorbar\": {\"outlinewidth\": 0, \"ticks\": \"\"}, \"type\": \"choropleth\"}], \"contour\": [{\"colorbar\": {\"outlinewidth\": 0, \"ticks\": \"\"}, \"colorscale\": [[0.0, \"#0d0887\"], [0.1111111111111111, \"#46039f\"], [0.2222222222222222, \"#7201a8\"], [0.3333333333333333, \"#9c179e\"], [0.4444444444444444, \"#bd3786\"], [0.5555555555555556, \"#d8576b\"], [0.6666666666666666, \"#ed7953\"], [0.7777777777777778, \"#fb9f3a\"], [0.8888888888888888, \"#fdca26\"], [1.0, \"#f0f921\"]], \"type\": \"contour\"}], \"contourcarpet\": [{\"colorbar\": {\"outlinewidth\": 0, \"ticks\": \"\"}, \"type\": \"contourcarpet\"}], \"heatmap\": [{\"colorbar\": {\"outlinewidth\": 0, \"ticks\": \"\"}, \"colorscale\": [[0.0, \"#0d0887\"], [0.1111111111111111, \"#46039f\"], [0.2222222222222222, \"#7201a8\"], [0.3333333333333333, \"#9c179e\"], [0.4444444444444444, \"#bd3786\"], [0.5555555555555556, \"#d8576b\"], [0.6666666666666666, \"#ed7953\"], [0.7777777777777778, \"#fb9f3a\"], [0.8888888888888888, \"#fdca26\"], [1.0, \"#f0f921\"]], \"type\": \"heatmap\"}], \"heatmapgl\": [{\"colorbar\": {\"outlinewidth\": 0, \"ticks\": \"\"}, \"colorscale\": [[0.0, \"#0d0887\"], [0.1111111111111111, \"#46039f\"], [0.2222222222222222, \"#7201a8\"], [0.3333333333333333, \"#9c179e\"], [0.4444444444444444, \"#bd3786\"], [0.5555555555555556, \"#d8576b\"], [0.6666666666666666, \"#ed7953\"], [0.7777777777777778, \"#fb9f3a\"], [0.8888888888888888, \"#fdca26\"], [1.0, \"#f0f921\"]], \"type\": \"heatmapgl\"}], \"histogram\": [{\"marker\": {\"colorbar\": {\"outlinewidth\": 0, \"ticks\": \"\"}}, \"type\": \"histogram\"}], \"histogram2d\": [{\"colorbar\": {\"outlinewidth\": 0, \"ticks\": \"\"}, \"colorscale\": [[0.0, \"#0d0887\"], [0.1111111111111111, \"#46039f\"], [0.2222222222222222, \"#7201a8\"], [0.3333333333333333, \"#9c179e\"], [0.4444444444444444, \"#bd3786\"], [0.5555555555555556, \"#d8576b\"], [0.6666666666666666, \"#ed7953\"], [0.7777777777777778, \"#fb9f3a\"], [0.8888888888888888, \"#fdca26\"], [1.0, \"#f0f921\"]], \"type\": \"histogram2d\"}], \"histogram2dcontour\": [{\"colorbar\": {\"outlinewidth\": 0, \"ticks\": \"\"}, \"colorscale\": [[0.0, \"#0d0887\"], [0.1111111111111111, \"#46039f\"], [0.2222222222222222, \"#7201a8\"], [0.3333333333333333, \"#9c179e\"], [0.4444444444444444, \"#bd3786\"], [0.5555555555555556, \"#d8576b\"], [0.6666666666666666, \"#ed7953\"], [0.7777777777777778, \"#fb9f3a\"], [0.8888888888888888, \"#fdca26\"], [1.0, \"#f0f921\"]], \"type\": \"histogram2dcontour\"}], \"mesh3d\": [{\"colorbar\": {\"outlinewidth\": 0, \"ticks\": \"\"}, \"type\": \"mesh3d\"}], \"parcoords\": [{\"line\": {\"colorbar\": {\"outlinewidth\": 0, \"ticks\": \"\"}}, \"type\": \"parcoords\"}], \"pie\": [{\"automargin\": true, \"type\": \"pie\"}], \"scatter\": [{\"marker\": {\"colorbar\": {\"outlinewidth\": 0, \"ticks\": \"\"}}, \"type\": \"scatter\"}], \"scatter3d\": [{\"line\": {\"colorbar\": {\"outlinewidth\": 0, \"ticks\": \"\"}}, \"marker\": {\"colorbar\": {\"outlinewidth\": 0, \"ticks\": \"\"}}, \"type\": \"scatter3d\"}], \"scattercarpet\": [{\"marker\": {\"colorbar\": {\"outlinewidth\": 0, \"ticks\": \"\"}}, \"type\": \"scattercarpet\"}], \"scattergeo\": [{\"marker\": {\"colorbar\": {\"outlinewidth\": 0, \"ticks\": \"\"}}, \"type\": \"scattergeo\"}], \"scattergl\": [{\"marker\": {\"colorbar\": {\"outlinewidth\": 0, \"ticks\": \"\"}}, \"type\": \"scattergl\"}], \"scattermapbox\": [{\"marker\": {\"colorbar\": {\"outlinewidth\": 0, \"ticks\": \"\"}}, \"type\": \"scattermapbox\"}], \"scatterpolar\": [{\"marker\": {\"colorbar\": {\"outlinewidth\": 0, \"ticks\": \"\"}}, \"type\": \"scatterpolar\"}], \"scatterpolargl\": [{\"marker\": {\"colorbar\": {\"outlinewidth\": 0, \"ticks\": \"\"}}, \"type\": \"scatterpolargl\"}], \"scatterternary\": [{\"marker\": {\"colorbar\": {\"outlinewidth\": 0, \"ticks\": \"\"}}, \"type\": \"scatterternary\"}], \"surface\": [{\"colorbar\": {\"outlinewidth\": 0, \"ticks\": \"\"}, \"colorscale\": [[0.0, \"#0d0887\"], [0.1111111111111111, \"#46039f\"], [0.2222222222222222, \"#7201a8\"], [0.3333333333333333, \"#9c179e\"], [0.4444444444444444, \"#bd3786\"], [0.5555555555555556, \"#d8576b\"], [0.6666666666666666, \"#ed7953\"], [0.7777777777777778, \"#fb9f3a\"], [0.8888888888888888, \"#fdca26\"], [1.0, \"#f0f921\"]], \"type\": \"surface\"}], \"table\": [{\"cells\": {\"fill\": {\"color\": \"#EBF0F8\"}, \"line\": {\"color\": \"white\"}}, \"header\": {\"fill\": {\"color\": \"#C8D4E3\"}, \"line\": {\"color\": \"white\"}}, \"type\": \"table\"}]}, \"layout\": {\"annotationdefaults\": {\"arrowcolor\": \"#2a3f5f\", \"arrowhead\": 0, \"arrowwidth\": 1}, \"coloraxis\": {\"colorbar\": {\"outlinewidth\": 0, \"ticks\": \"\"}}, \"colorscale\": {\"diverging\": [[0, \"#8e0152\"], [0.1, \"#c51b7d\"], [0.2, \"#de77ae\"], [0.3, \"#f1b6da\"], [0.4, \"#fde0ef\"], [0.5, \"#f7f7f7\"], [0.6, \"#e6f5d0\"], [0.7, \"#b8e186\"], [0.8, \"#7fbc41\"], [0.9, \"#4d9221\"], [1, \"#276419\"]], \"sequential\": [[0.0, \"#0d0887\"], [0.1111111111111111, \"#46039f\"], [0.2222222222222222, \"#7201a8\"], [0.3333333333333333, \"#9c179e\"], [0.4444444444444444, \"#bd3786\"], [0.5555555555555556, \"#d8576b\"], [0.6666666666666666, \"#ed7953\"], [0.7777777777777778, \"#fb9f3a\"], [0.8888888888888888, \"#fdca26\"], [1.0, \"#f0f921\"]], \"sequentialminus\": [[0.0, \"#0d0887\"], [0.1111111111111111, \"#46039f\"], [0.2222222222222222, \"#7201a8\"], [0.3333333333333333, \"#9c179e\"], [0.4444444444444444, \"#bd3786\"], [0.5555555555555556, \"#d8576b\"], [0.6666666666666666, \"#ed7953\"], [0.7777777777777778, \"#fb9f3a\"], [0.8888888888888888, \"#fdca26\"], [1.0, \"#f0f921\"]]}, \"colorway\": [\"#636efa\", \"#EF553B\", \"#00cc96\", \"#ab63fa\", \"#FFA15A\", \"#19d3f3\", \"#FF6692\", \"#B6E880\", \"#FF97FF\", \"#FECB52\"], \"font\": {\"color\": \"#2a3f5f\"}, \"geo\": {\"bgcolor\": \"white\", \"lakecolor\": \"white\", \"landcolor\": \"#E5ECF6\", \"showlakes\": true, \"showland\": true, \"subunitcolor\": \"white\"}, \"hoverlabel\": {\"align\": \"left\"}, \"hovermode\": \"closest\", \"mapbox\": {\"style\": \"light\"}, \"paper_bgcolor\": \"white\", \"plot_bgcolor\": \"#E5ECF6\", \"polar\": {\"angularaxis\": {\"gridcolor\": \"white\", \"linecolor\": \"white\", \"ticks\": \"\"}, \"bgcolor\": \"#E5ECF6\", \"radialaxis\": {\"gridcolor\": \"white\", \"linecolor\": \"white\", \"ticks\": \"\"}}, \"scene\": {\"xaxis\": {\"backgroundcolor\": \"#E5ECF6\", \"gridcolor\": \"white\", \"gridwidth\": 2, \"linecolor\": \"white\", \"showbackground\": true, \"ticks\": \"\", \"zerolinecolor\": \"white\"}, \"yaxis\": {\"backgroundcolor\": \"#E5ECF6\", \"gridcolor\": \"white\", \"gridwidth\": 2, \"linecolor\": \"white\", \"showbackground\": true, \"ticks\": \"\", \"zerolinecolor\": \"white\"}, \"zaxis\": {\"backgroundcolor\": \"#E5ECF6\", \"gridcolor\": \"white\", \"gridwidth\": 2, \"linecolor\": \"white\", \"showbackground\": true, \"ticks\": \"\", \"zerolinecolor\": \"white\"}}, \"shapedefaults\": {\"line\": {\"color\": \"#2a3f5f\"}}, \"ternary\": {\"aaxis\": {\"gridcolor\": \"white\", \"linecolor\": \"white\", \"ticks\": \"\"}, \"baxis\": {\"gridcolor\": \"white\", \"linecolor\": \"white\", \"ticks\": \"\"}, \"bgcolor\": \"#E5ECF6\", \"caxis\": {\"gridcolor\": \"white\", \"linecolor\": \"white\", \"ticks\": \"\"}}, \"title\": {\"x\": 0.05}, \"xaxis\": {\"automargin\": true, \"gridcolor\": \"white\", \"linecolor\": \"white\", \"ticks\": \"\", \"title\": {\"standoff\": 15}, \"zerolinecolor\": \"white\", \"zerolinewidth\": 2}, \"yaxis\": {\"automargin\": true, \"gridcolor\": \"white\", \"linecolor\": \"white\", \"ticks\": \"\", \"title\": {\"standoff\": 15}, \"zerolinecolor\": \"white\", \"zerolinewidth\": 2}}}},                        {\"responsive\": true}                    ).then(function(){\n",
       "                            \n",
       "var gd = document.getElementById('d2d23574-7f37-45e8-849d-ffdb4cdd047f');\n",
       "var x = new MutationObserver(function (mutations, observer) {{\n",
       "        var display = window.getComputedStyle(gd).display;\n",
       "        if (!display || display === 'none') {{\n",
       "            console.log([gd, 'removed!']);\n",
       "            Plotly.purge(gd);\n",
       "            observer.disconnect();\n",
       "        }}\n",
       "}});\n",
       "\n",
       "// Listen for the removal of the full notebook cells\n",
       "var notebookContainer = gd.closest('#notebook-container');\n",
       "if (notebookContainer) {{\n",
       "    x.observe(notebookContainer, {childList: true});\n",
       "}}\n",
       "\n",
       "// Listen for the clearing of the current output cell\n",
       "var outputEl = gd.closest('.output');\n",
       "if (outputEl) {{\n",
       "    x.observe(outputEl, {childList: true});\n",
       "}}\n",
       "\n",
       "                        })                };                });            </script>        </div>"
      ]
     },
     "metadata": {},
     "output_type": "display_data"
    }
   ],
   "source": [
    "import plotly.graph_objects as go\n",
    "import pandas as pd\n",
    "\n",
    "df = pd.read_csv('https://raw.githubusercontent.com/plotly/datasets/718417069ead87650b90472464c7565dc8c2cb1c/coffee-flavors.csv')\n",
    "\n",
    "fig = go.Figure()\n",
    "\n",
    "fig.add_trace(go.Sunburst(\n",
    "    ids=df.ids,\n",
    "    labels=df.labels,\n",
    "    parents=df.parents,\n",
    "    domain=dict(column=1),\n",
    "    maxdepth=2,\n",
    "    insidetextorientation='radial'\n",
    "))\n",
    "\n",
    "fig.update_layout(\n",
    "    margin = dict(t=10, l=10, r=10, b=10)\n",
    ")\n",
    "\n",
    "fig.show()"
   ]
  },
  {
   "cell_type": "code",
   "execution_count": 10,
   "metadata": {},
   "outputs": [
    {
     "data": {
      "text/plain": [
       "{'Acidy-Nippy',\n",
       " 'Acidy-Piquant',\n",
       " 'Alliaceous-Garlic',\n",
       " 'Alliaceous-Onion',\n",
       " 'Ashy-Burnt',\n",
       " 'Ashy-Charred',\n",
       " 'Berry-like-Apricot',\n",
       " 'Berry-like-Blackberry',\n",
       " 'Bitter-Harsh',\n",
       " 'Bitter-Pungent',\n",
       " 'Bland-Neutral',\n",
       " 'Bland-Soft',\n",
       " 'Candy-like-Roasted Almond',\n",
       " 'Candy-like-Roasted Hazelnut',\n",
       " 'Carbony-Ashy',\n",
       " 'Carbony-Smokey',\n",
       " 'Carmelly-Candy-like',\n",
       " 'Carmelly-Syrup-like',\n",
       " 'Chocolate-like-Bakers',\n",
       " 'Chocolate-like-Dark Chocolate',\n",
       " 'Chocolatey-Chocolate-like',\n",
       " 'Chocolatey-Vanilla-like',\n",
       " 'Citrus-Apple',\n",
       " 'Citrus-Lemon',\n",
       " 'Dry Distillation-Carbony',\n",
       " 'Dry Distillation-Resinous',\n",
       " 'Dry Distillation-Spicy',\n",
       " 'Enzymatic-Flowery',\n",
       " 'Enzymatic-Fruity',\n",
       " 'Enzymatic-Herby',\n",
       " 'Floral-Coffee Blossom',\n",
       " 'Floral-Tea Rose',\n",
       " 'Flowery-Floral',\n",
       " 'Flowery-Fragrant',\n",
       " 'Fragrant-Cardamon Caraway',\n",
       " 'Fragrant-Coriander Seeds',\n",
       " 'Fruity-Berry-like',\n",
       " 'Fruity-Citrus',\n",
       " 'Harsh-Alkaline',\n",
       " 'Harsh-Caustic',\n",
       " 'Herby-Alliaceous',\n",
       " 'Herby-Leguminous',\n",
       " 'Leguminous-Cucumber',\n",
       " 'Leguminous-Garden Peas',\n",
       " 'Malt-like-Balsamic Rice',\n",
       " 'Malt-like-Toast',\n",
       " 'Medicinal-Camphoric',\n",
       " 'Medicinal-Cineolic',\n",
       " 'Mellow-Delicate',\n",
       " 'Mellow-Mild',\n",
       " 'Nut-like-Roasted Peanuts',\n",
       " 'Nut-like-Walnuts',\n",
       " 'Nutty-Malt-like',\n",
       " 'Nutty-Nut-like',\n",
       " 'Pungent-Clove',\n",
       " 'Pungent-Creosol',\n",
       " 'Pungent-Phenolic',\n",
       " 'Pungent-Thyme',\n",
       " 'Resinous-Medicinal',\n",
       " 'Resinous-Turpeny',\n",
       " 'Salt-Bland',\n",
       " 'Salt-Sharp',\n",
       " 'Sharp-Astringent',\n",
       " 'Sharp-Rough',\n",
       " 'Smokey-Pipe Tobacco',\n",
       " 'Smokey-Tarry',\n",
       " 'Sour-Soury',\n",
       " 'Sour-Winey',\n",
       " 'Soury-Acrid',\n",
       " 'Soury-Hard',\n",
       " 'Spicy-Pungent',\n",
       " 'Spicy-Warming',\n",
       " 'Sugar Browning-Carmelly',\n",
       " 'Sugar Browning-Chocolatey',\n",
       " 'Sugar Browning-Nutty',\n",
       " 'Sweet-Acidy',\n",
       " 'Sweet-Mellow',\n",
       " 'Syrup-like-Honey',\n",
       " 'Syrup-like-Maple Syrup',\n",
       " 'Turpeny-Blackcurrant-like',\n",
       " 'Turpeny-Piney',\n",
       " 'Vanilla-like-Butter',\n",
       " 'Vanilla-like-Swiss',\n",
       " 'Warming-Cedar',\n",
       " 'Warming-Pepper',\n",
       " 'Winey-Tangy',\n",
       " 'Winey-Tart'}"
      ]
     },
     "execution_count": 10,
     "metadata": {},
     "output_type": "execute_result"
    }
   ],
   "source": [
    "set(list(df.ids))"
   ]
  }
 ],
 "metadata": {
  "kernelspec": {
   "display_name": "Python 3",
   "language": "python",
   "name": "python3"
  },
  "language_info": {
   "codemirror_mode": {
    "name": "ipython",
    "version": 3
   },
   "file_extension": ".py",
   "mimetype": "text/x-python",
   "name": "python",
   "nbconvert_exporter": "python",
   "pygments_lexer": "ipython3",
   "version": "3.8.3"
  }
 },
 "nbformat": 4,
 "nbformat_minor": 2
}
